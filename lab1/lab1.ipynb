{
 "cells": [
  {
   "cell_type": "code",
   "execution_count": 94,
   "metadata": {},
   "outputs": [],
   "source": [
    "import numpy as np "
   ]
  },
  {
   "cell_type": "code",
   "execution_count": 95,
   "metadata": {},
   "outputs": [],
   "source": [
    "matrix = [[1,1,0,1,0],\n",
    "          [1,1,1,1,0],\n",
    "          [0,0,0,0,1],\n",
    "          [1,0,1,1,1],\n",
    "          [0,1,0,0,0]]\n",
    "matrix_arr = np.array([[1,1,0,1,0],\n",
    "                   [1,1,1,1,0],\n",
    "                   [0,0,0,0,1],\n",
    "                   [1,0,1,1,1],\n",
    "                   [0,1,0,0,0]])"
   ]
  },
  {
   "cell_type": "code",
   "execution_count": 96,
   "metadata": {},
   "outputs": [],
   "source": [
    "def reflex(matrix):\n",
    "    for i in range(len(matrix)):\n",
    "        for j in range(len(matrix[i])):\n",
    "             if i==j and matrix[i][j] !=1 :\n",
    "                return False\n",
    "    return True"
   ]
  },
  {
   "cell_type": "code",
   "execution_count": 97,
   "metadata": {},
   "outputs": [],
   "source": [
    "def antireflex(matrix):\n",
    "    for i in range(len(matrix)):\n",
    "        for j in range(len(matrix[i])):\n",
    "             if i==j and matrix[i][j] !=0 :\n",
    "                return False\n",
    "    return True"
   ]
  },
  {
   "cell_type": "code",
   "execution_count": 98,
   "metadata": {},
   "outputs": [],
   "source": [
    "def symmerty(matrix):\n",
    "    for i in range(len(matrix)):\n",
    "        for j in range(len(matrix[i])):\n",
    "             if  matrix[i][j] != matrix[j][i]:\n",
    "                return False\n",
    "    return True"
   ]
  },
  {
   "cell_type": "code",
   "execution_count": 99,
   "metadata": {},
   "outputs": [],
   "source": [
    "def asymmerty(matrix):\n",
    "    if antireflex(matrix) != True:\n",
    "        return False\n",
    "    for i in range(len(matrix)):\n",
    "        for j in range(len(matrix[i])):\n",
    "             if  matrix[i][j]==1 and matrix[j][i]==1 :\n",
    "                return False\n",
    "    return True"
   ]
  },
  {
   "cell_type": "code",
   "execution_count": 100,
   "metadata": {},
   "outputs": [],
   "source": [
    "def antisymmerty(matrix):\n",
    "    \n",
    "    for i in range(len(matrix)):\n",
    "        for j in range(len(matrix[i])):\n",
    "             if  matrix[i][j]==1 and matrix[j][i]==1 and i!=j :\n",
    "                return False\n",
    "    return True"
   ]
  },
  {
   "cell_type": "code",
   "execution_count": 101,
   "metadata": {},
   "outputs": [],
   "source": [
    "def transitive(matrix):\n",
    "    matrix_2 = np.dot(matrix,matrix)\n",
    "    if np.min(np.subtract(matrix,matrix_2)) < 0:\n",
    "        return False\n",
    "    return True\n",
    "    \n",
    "    \n",
    "            "
   ]
  },
  {
   "cell_type": "code",
   "execution_count": 102,
   "metadata": {},
   "outputs": [],
   "source": [
    "def worst(matrix):\n",
    "  l = len(matrix)\n",
    "  worst_element = []\n",
    "  for i in range(l):\n",
    "      if min(matrix[i, :]) == 1:\n",
    "          worst_element.append(i + 1)\n",
    "  return worst_element"
   ]
  },
  {
   "cell_type": "code",
   "execution_count": 103,
   "metadata": {},
   "outputs": [],
   "source": [
    "def best(matrix):\n",
    "  l = len(matrix)\n",
    "  best_element = []\n",
    "  for j in range(l):\n",
    "      if min(matrix[:, j]) == 1:\n",
    "          best_element.append(j + 1)\n",
    "  return best_element"
   ]
  },
  {
   "cell_type": "code",
   "execution_count": 104,
   "metadata": {},
   "outputs": [],
   "source": [
    "def complement(matrix):\n",
    "    A = np.ones((5,5))\n",
    "    r = A - matrix\n",
    "    return r"
   ]
  },
  {
   "cell_type": "code",
   "execution_count": 105,
   "metadata": {},
   "outputs": [],
   "source": [
    "def converse(matrix):\n",
    "    return matrix.transpose()"
   ]
  },
  {
   "cell_type": "code",
   "execution_count": 106,
   "metadata": {},
   "outputs": [
    {
     "name": "stdout",
     "output_type": "stream",
     "text": [
      "[3 3 2 3 2]\n"
     ]
    }
   ],
   "source": [
    "Max = np.sum(matrix, axis = 0)\n",
    "print(Max)\n",
    "def max(matrix):\n",
    "  \n",
    "  List = []\n",
    "  for i in range(len(matrix)):\n",
    "    if(matrix[i] == 0):\n",
    "      List.append(i+1)\n",
    "  return List"
   ]
  },
  {
   "cell_type": "code",
   "execution_count": 107,
   "metadata": {},
   "outputs": [
    {
     "name": "stdout",
     "output_type": "stream",
     "text": [
      "[3 3 2 3 2]\n"
     ]
    }
   ],
   "source": [
    "Min = np.sum(matrix, axis = 0)\n",
    "print(Min)\n",
    "def min(matrix):\n",
    "  \n",
    "  List = []\n",
    "  for i in range(len(matrix)):\n",
    "    if(matrix[i] == 0):\n",
    "      List.append(i+1)\n",
    "  return List"
   ]
  },
  {
   "cell_type": "code",
   "execution_count": 108,
   "metadata": {},
   "outputs": [
    {
     "name": "stdout",
     "output_type": "stream",
     "text": [
      "False\n",
      "False\n",
      "False\n",
      "False\n",
      "False\n",
      "False\n",
      "[]\n",
      "[]\n",
      "[[0. 0. 1. 0. 1.]\n",
      " [0. 0. 0. 0. 1.]\n",
      " [1. 1. 1. 1. 0.]\n",
      " [0. 1. 0. 0. 0.]\n",
      " [1. 0. 1. 1. 1.]]\n",
      "[[1 1 0 1 0]\n",
      " [1 1 0 0 1]\n",
      " [0 1 0 1 0]\n",
      " [1 1 0 1 0]\n",
      " [0 0 1 1 0]]\n",
      "[]\n",
      "[]\n"
     ]
    }
   ],
   "source": [
    "\n",
    "print(reflex(matrix))\n",
    "print(antireflex(matrix))\n",
    "print(symmerty(matrix))\n",
    "print(asymmerty(matrix))\n",
    "print(antisymmerty(matrix))\n",
    "print(transitive(matrix_arr))\n",
    "print(best(matrix_arr))\n",
    "print(worst(matrix_arr))\n",
    "print(complement(matrix_arr))\n",
    "print(converse(matrix_arr))\n",
    "print(min(Min))\n",
    "print(max(Max))"
   ]
  }
 ],
 "metadata": {
  "kernelspec": {
   "display_name": "Python 3",
   "language": "python",
   "name": "python3"
  },
  "language_info": {
   "codemirror_mode": {
    "name": "ipython",
    "version": 3
   },
   "file_extension": ".py",
   "mimetype": "text/x-python",
   "name": "python",
   "nbconvert_exporter": "python",
   "pygments_lexer": "ipython3",
   "version": "3.9.10"
  }
 },
 "nbformat": 4,
 "nbformat_minor": 2
}

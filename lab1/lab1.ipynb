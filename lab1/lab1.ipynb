{
 "cells": [
  {
   "cell_type": "code",
   "execution_count": 1,
   "metadata": {},
   "outputs": [],
   "source": [
    "import numpy as np "
   ]
  },
  {
   "cell_type": "code",
   "execution_count": 59,
   "metadata": {},
   "outputs": [],
   "source": [
    "def reflex(matrix):\n",
    "    for i in range(len(matrix)):\n",
    "        for j in range(len(matrix[i])):\n",
    "             if i==j and matrix[i][j] !=1 :\n",
    "                return False\n",
    "    return True"
   ]
  },
  {
   "cell_type": "code",
   "execution_count": 64,
   "metadata": {},
   "outputs": [],
   "source": [
    "def antireflex(matrix):\n",
    "    for i in range(len(matrix)):\n",
    "        for j in range(len(matrix[i])):\n",
    "             if i==j and matrix[i][j] !=0 :\n",
    "                return False\n",
    "    return True"
   ]
  },
  {
   "cell_type": "code",
   "execution_count": 66,
   "metadata": {},
   "outputs": [],
   "source": [
    "def symmerty(matrix):\n",
    "    for i in range(len(matrix)):\n",
    "        for j in range(len(matrix[i])):\n",
    "             if  matrix[i][j] != matrix[j][i]:\n",
    "                return False\n",
    "    return True"
   ]
  },
  {
   "cell_type": "code",
   "execution_count": 71,
   "metadata": {},
   "outputs": [],
   "source": [
    "def asymmerty(matrix):\n",
    "    if antireflex(matrix) != True:\n",
    "        return False\n",
    "    for i in range(len(matrix)):\n",
    "        for j in range(len(matrix[i])):\n",
    "             if  matrix[i][j]==1 and matrix[j][i]==1 :\n",
    "                return False\n",
    "    return True"
   ]
  },
  {
   "cell_type": "code",
   "execution_count": 75,
   "metadata": {},
   "outputs": [],
   "source": [
    "def antisymmerty(matrix):\n",
    "    \n",
    "    for i in range(len(matrix)):\n",
    "        for j in range(len(matrix[i])):\n",
    "             if  matrix[i][j]==1 and matrix[j][i]==1 and i!=j :\n",
    "                return False\n",
    "    return True"
   ]
  },
  {
   "cell_type": "code",
   "execution_count": 97,
   "metadata": {},
   "outputs": [],
   "source": [
    "def transitive(matrix):\n",
    "    matrix_2 = np.dot(matrix,matrix)\n",
    "    if np.min(np.subtract(matrix,matrix_2)) < 0:\n",
    "        return False\n",
    "    return True\n",
    "    \n",
    "    \n",
    "            "
   ]
  },
  {
   "cell_type": "code",
   "execution_count": 101,
   "metadata": {},
   "outputs": [],
   "source": [
    "def best(m):\n",
    "  l = len(m)\n",
    "  best_element = []\n",
    "  for i in range(l):\n",
    "      if min(m[i, :]) == 1:\n",
    "          best_element.append(i + 1)\n",
    "  return best_element\n",
    "\n"
   ]
  },
  {
   "cell_type": "code",
   "execution_count": 104,
   "metadata": {},
   "outputs": [],
   "source": [
    "def worst(m):\n",
    "  l = len(m)\n",
    "  worst_element = []\n",
    "  for j in range(l):\n",
    "      if min(m[:, j]) == 1:\n",
    "          worst_element.append(j + 1)\n",
    "  return worst_element\n",
    "\n"
   ]
  },
  {
   "cell_type": "code",
   "execution_count": null,
   "metadata": {},
   "outputs": [],
   "source": []
  },
  {
   "cell_type": "code",
   "execution_count": 105,
   "metadata": {},
   "outputs": [
    {
     "name": "stdout",
     "output_type": "stream",
     "text": [
      "False\n",
      "False\n",
      "False\n",
      "False\n",
      "False\n",
      "False\n",
      "[]\n",
      "[]\n"
     ]
    }
   ],
   "source": [
    "matrix = [[1,1,0,1,0],\n",
    "          [1,1,1,1,0],\n",
    "          [0,0,0,0,1],\n",
    "          [1,0,1,1,1],\n",
    "          [0,1,0,0,0]]\n",
    "matrix_arr = np.array([[1,1,0,1,0],\n",
    "                   [1,1,1,1,0],\n",
    "                   [0,0,0,0,1],\n",
    "                   [1,0,1,1,1],\n",
    "                   [0,1,0,0,0]])\n",
    "matrix_arr_2 = np.dot(matrix_arr,matrix_arr)\n",
    "log_matrix =[[True,True,False,True,False],\n",
    "          [True,True,True,True,False],\n",
    "          [False,False,False,False,True],\n",
    "          [True,False,True,True,True],\n",
    "          [False,True,False,False,False]]\n",
    "print(reflex(matrix))\n",
    "print(antireflex(matrix))\n",
    "print(symmerty(matrix))\n",
    "print(asymmerty(matrix))\n",
    "print(antisymmerty(matrix))\n",
    "print(transitive(matrix_arr))\n",
    "print(best(matrix_arr))\n",
    "print(worst(matrix_arr))"
   ]
  },
  {
   "cell_type": "code",
   "execution_count": 99,
   "metadata": {},
   "outputs": [
    {
     "name": "stdout",
     "output_type": "stream",
     "text": [
      "[[1 1 0 1 0]\n",
      " [1 1 1 1 0]\n",
      " [0 0 0 0 1]\n",
      " [1 0 1 1 1]\n",
      " [0 1 0 0 0]]\n",
      "[[3 2 2 3 1]\n",
      " [3 2 2 3 2]\n",
      " [0 1 0 0 0]\n",
      " [2 2 1 2 2]\n",
      " [1 1 1 1 0]]\n"
     ]
    }
   ],
   "source": [
    "print(matrix_arr*matrix_arr)\n",
    "print(np.dot(matrix_arr, matrix_arr))"
   ]
  }
 ],
 "metadata": {
  "kernelspec": {
   "display_name": "Python 3",
   "language": "python",
   "name": "python3"
  },
  "language_info": {
   "codemirror_mode": {
    "name": "ipython",
    "version": 3
   },
   "file_extension": ".py",
   "mimetype": "text/x-python",
   "name": "python",
   "nbconvert_exporter": "python",
   "pygments_lexer": "ipython3",
   "version": "3.9.10"
  }
 },
 "nbformat": 4,
 "nbformat_minor": 2
}

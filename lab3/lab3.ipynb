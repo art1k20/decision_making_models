{
 "cells": [
  {
   "cell_type": "markdown",
   "metadata": {},
   "source": [
    "$f(x, y) = 2x_1 + x_2 \\rightarrow min\\\\$\n",
    "$3x1 + x2 \\geq \\approx 4\\\\$\n",
    "$x_1 - 6x_2 \\leq\\approx 24\\\\$\n",
    "$3x_1 + 8x_2 \\leq\\approx 24\\\\$\n",
    "$x_1, x_2 \\geq 0$"
   ]
  },
  {
   "cell_type": "code",
   "execution_count": 1,
   "metadata": {},
   "outputs": [],
   "source": [
    "from scipy.optimize import linprog"
   ]
  },
  {
   "cell_type": "code",
   "execution_count": 3,
   "metadata": {},
   "outputs": [
    {
     "name": "stdout",
     "output_type": "stream",
     "text": [
      "x = [1.33333333 0.        ]\n",
      "f(x) = 2.6666666666666665\n"
     ]
    },
    {
     "name": "stderr",
     "output_type": "stream",
     "text": [
      "C:\\Users\\valer\\AppData\\Local\\Temp\\ipykernel_11200\\1527630792.py:9: DeprecationWarning: `method='revised simplex'` is deprecated and will be removed in SciPy 1.11.0. Please use one of the HiGHS solvers (e.g. `method='highs'`) in new code.\n",
      "  opt = linprog(c=obj, A_ub=lhs_ineq, b_ub=rhs_ineq, method=\"revised simplex\")# f -> min\n"
     ]
    }
   ],
   "source": [
    "#при λ = 1\n",
    "obj = [2, 1]\n",
    "\n",
    "\n",
    "lhs_ineq = [[ -3,  -1], [4,  6], [ 3, 8]]  \n",
    "\n",
    "rhs_ineq = [-4, 24, 24] \n",
    "\n",
    "opt = linprog(c=obj, A_ub=lhs_ineq, b_ub=rhs_ineq, method=\"revised simplex\")# f -> min\n",
    "print(f\"x = {opt.x}\")\n",
    "print(f\"f(x) = {opt.fun}\")\n"
   ]
  },
  {
   "cell_type": "code",
   "execution_count": 6,
   "metadata": {},
   "outputs": [
    {
     "name": "stdout",
     "output_type": "stream",
     "text": [
      "x = [1. 0.]\n",
      "f(x) = 2.0\n"
     ]
    },
    {
     "name": "stderr",
     "output_type": "stream",
     "text": [
      "C:\\Users\\valer\\AppData\\Local\\Temp\\ipykernel_11200\\4096604069.py:6: DeprecationWarning: `method='revised simplex'` is deprecated and will be removed in SciPy 1.11.0. Please use one of the HiGHS solvers (e.g. `method='highs'`) in new code.\n",
      "  opt = linprog(c=obj, A_ub=lhs_ineq, b_ub=rhs_ineq, method=\"revised simplex\")\n"
     ]
    }
   ],
   "source": [
    "# рівень λ = 0.7\n",
    "\n",
    "\n",
    "rhs_ineq = [-3, 25, 25] \n",
    "\n",
    "opt = linprog(c=obj, A_ub=lhs_ineq, b_ub=rhs_ineq, method=\"revised simplex\")\n",
    "print(f\"x = {opt.x}\")\n",
    "print(f\"f(x) = {opt.fun}\")"
   ]
  },
  {
   "cell_type": "code",
   "execution_count": 5,
   "metadata": {},
   "outputs": [
    {
     "name": "stdout",
     "output_type": "stream",
     "text": [
      "x = [0.66666667 0.        ]\n",
      "f(x) = 1.3333333333333333\n"
     ]
    },
    {
     "name": "stderr",
     "output_type": "stream",
     "text": [
      "C:\\Users\\valer\\AppData\\Local\\Temp\\ipykernel_11200\\1599188701.py:3: DeprecationWarning: `method='revised simplex'` is deprecated and will be removed in SciPy 1.11.0. Please use one of the HiGHS solvers (e.g. `method='highs'`) in new code.\n",
      "  opt = linprog(c=obj, A_ub=lhs_ineq, b_ub=rhs_ineq, method=\"revised simplex\")\n"
     ]
    }
   ],
   "source": [
    "rhs_ineq = [-2, 26, 26] \n",
    "\n",
    "opt = linprog(c=obj, A_ub=lhs_ineq, b_ub=rhs_ineq, method=\"revised simplex\")\n",
    "print(f\"x = {opt.x}\")\n",
    "print(f\"f(x) = {opt.fun}\")"
   ]
  }
 ],
 "metadata": {
  "kernelspec": {
   "display_name": "Python 3",
   "language": "python",
   "name": "python3"
  },
  "language_info": {
   "codemirror_mode": {
    "name": "ipython",
    "version": 3
   },
   "file_extension": ".py",
   "mimetype": "text/x-python",
   "name": "python",
   "nbconvert_exporter": "python",
   "pygments_lexer": "ipython3",
   "version": "3.9.10"
  }
 },
 "nbformat": 4,
 "nbformat_minor": 2
}
